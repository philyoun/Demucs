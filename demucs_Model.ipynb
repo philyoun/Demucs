{
 "cells": [
  {
   "cell_type": "markdown",
   "metadata": {},
   "source": [
    "# Demucs Model"
   ]
  },
  {
   "cell_type": "code",
   "execution_count": 1,
   "metadata": {},
   "outputs": [],
   "source": [
    "import os\n",
    "os.environ['TF_CPP_MIN_LOG_LEVEL'] = '3'\n",
    "import time\n",
    "\n",
    "import tensorflow as tf\n",
    "import tensorflow.keras as keras\n",
    "import numpy as np\n",
    "\n",
    "%config Completer.use_jedi = False"
   ]
  },
  {
   "cell_type": "markdown",
   "metadata": {},
   "source": [
    "#### weight rescaling"
   ]
  },
  {
   "cell_type": "code",
   "execution_count": 2,
   "metadata": {},
   "outputs": [],
   "source": [
    "class WeightRescaling(keras.layers.Layer):\n",
    "    def __init__(self, layer, **kwargs):\n",
    "        super(WeightRescaling, self).__init__(**kwargs)\n",
    "        self.layer = layer\n",
    "        self.is_conv1d = isinstance(self.layer, keras.layers.Conv1D)\n",
    "        \n",
    "    def build(self, batch_input_shape):\n",
    "        batch_input_shape = tf.TensorShape(batch_input_shape)\n",
    "        \n",
    "        if not self.layer.built:\n",
    "            self.layer.build(batch_input_shape)\n",
    "            kernel = self.layer.kernel\n",
    "        \n",
    "        kernel = self.layer.kernel\n",
    "        if not self.is_conv1d:\n",
    "            raise ValueError('`WeightRescaling` should wrap `keras.layers.Conv1D` layer')\n",
    "        \n",
    "        a = 0.1 # reference scale\n",
    "        alpha = keras.backend.std(kernel) / a\n",
    "        self.new_weights = kernel / tf.sqrt(alpha)\n",
    "        self.layer.kernel = self.new_weights\n",
    "    \n",
    "    def call(self, inputs, training=True):\n",
    "        outputs = self.layer(inputs)\n",
    "        return outputs"
   ]
  },
  {
   "cell_type": "markdown",
   "metadata": {},
   "source": [
    "#### GLU"
   ]
  },
  {
   "cell_type": "code",
   "execution_count": 3,
   "metadata": {},
   "outputs": [],
   "source": [
    "class GatedLinearUnit(keras.layers.Layer):\n",
    "    def __init__(self, **kwargs):\n",
    "        super(GatedLinearUnit, self).__init__(**kwargs)\n",
    "        self.multiply = keras.layers.Multiply()\n",
    "    def build(self, batch_input_shape):\n",
    "        self.units = batch_input_shape[-1] // 2\n",
    "        self.linear = keras.layers.Dense(self.units)\n",
    "        self.sigmoid = keras.layers.Dense(self.units, activation='sigmoid')\n",
    "    def call(self, inputs):\n",
    "        outputs = self.multiply([self.linear(inputs), self.sigmoid(inputs)])\n",
    "        return outputs"
   ]
  },
  {
   "cell_type": "code",
   "execution_count": 4,
   "metadata": {},
   "outputs": [],
   "source": [
    "def num2size(num):\n",
    "    assert num in np.arange(1, 7), \"{} size is not defined\".format(num)\n",
    "    return 64 * 2 ** (num - 1)"
   ]
  },
  {
   "cell_type": "code",
   "execution_count": 5,
   "metadata": {},
   "outputs": [],
   "source": [
    "class Encoder(keras.Model):\n",
    "    def __init__(self, number, **kwargs):\n",
    "        super(Encoder, self).__init__(**kwargs)\n",
    "        self.size = num2size(number)\n",
    "        self.conv1d1 = WeightRescaling(keras.layers.Conv1D(self.size, kernel_size=8, strides=4,\n",
    "                            padding='same', use_bias=False, activation=keras.activations.relu))\n",
    "        self.conv1d2 = WeightRescaling(keras.layers.Conv1D(self.size*2, kernel_size=1, strides=1,\n",
    "                            padding='same', use_bias=False))\n",
    "        self.glu = GatedLinearUnit()\n",
    "    def call(self, inputs):\n",
    "        x = self.conv1d1(inputs)\n",
    "        x = self.conv1d2(x)\n",
    "        outputs = self.glu(x)\n",
    "        return outputs"
   ]
  },
  {
   "cell_type": "code",
   "execution_count": 6,
   "metadata": {},
   "outputs": [],
   "source": [
    "class Decoder(keras.Model):\n",
    "    def __init__(self, number, **kwargs):\n",
    "        super(Decoder, self).__init__(**kwargs)\n",
    "        self.size = num2size(number)\n",
    "        self.conv1d1 = WeightRescaling(keras.layers.Conv1D(self.size * 2, kernel_size=3, strides=1,\n",
    "                            padding='same', use_bias=False))\n",
    "        self.conv1d2 = WeightRescaling(keras.layers.Conv1DTranspose(self.size, kernel_size=8, strides=4,\n",
    "                            padding='same', use_bias=False, activation=keras.activations.relu))\n",
    "        self.glu = GatedLinearUnit()\n",
    "    def call(self, inputs):\n",
    "        x = self.conv1d1(inputs)\n",
    "        x = self.glu(x)\n",
    "        outputs = self.conv1d2(x)\n",
    "        return outputs"
   ]
  },
  {
   "cell_type": "code",
   "execution_count": 7,
   "metadata": {},
   "outputs": [],
   "source": [
    "e1 = Encoder(1)\n",
    "e2 = Encoder(2)\n",
    "e3 = Encoder(3)\n",
    "e4 = Encoder(4)\n",
    "e5 = Encoder(5)\n",
    "e6 = Encoder(6)\n",
    "\n",
    "d6 = Decoder(5)\n",
    "d5 = Decoder(4)\n",
    "d4 = Decoder(3)\n",
    "d3 = Decoder(2)\n",
    "d2 = Decoder(1)"
   ]
  },
  {
   "cell_type": "code",
   "execution_count": 8,
   "metadata": {},
   "outputs": [],
   "source": [
    "num_sources = 4 # vocal, bass, drum, others\n",
    "\n",
    "d1 = keras.Sequential([\n",
    "    WeightRescaling(keras.layers.Conv1D(2 * num_sources * 2, kernel_size=3, strides=1, \n",
    "                                padding='same', use_bias=False)),\n",
    "    GatedLinearUnit(),\n",
    "    WeightRescaling(keras.layers.Conv1DTranspose(num_sources * 2, kernel_size=8, strides=4,\n",
    "                        padding='same', use_bias=False, activation=keras.activations.relu))\n",
    "])"
   ]
  },
  {
   "cell_type": "code",
   "execution_count": null,
   "metadata": {},
   "outputs": [],
   "source": []
  },
  {
   "cell_type": "code",
   "execution_count": 9,
   "metadata": {},
   "outputs": [
    {
     "name": "stdout",
     "output_type": "stream",
     "text": [
      "sample_inputs.shape: (None, 441000, 2)\n"
     ]
    }
   ],
   "source": [
    "long = 44100 * 10\n",
    "channels = 2\n",
    "\n",
    "sample_inputs = keras.Input((long, channels))\n",
    "print('sample_inputs.shape:', sample_inputs.shape)"
   ]
  },
  {
   "cell_type": "code",
   "execution_count": 10,
   "metadata": {},
   "outputs": [
    {
     "name": "stdout",
     "output_type": "stream",
     "text": [
      "e1_output.shape: (None, 110250, 64)\n",
      "e2_output.shape: (None, 27563, 128)\n",
      "e3_output.shape: (None, 6891, 256)\n",
      "e4_output.shape: (None, 1723, 512)\n",
      "e5_output.shape: (None, 431, 1024)\n",
      "e6_output.shape: (None, 108, 2048)\n"
     ]
    }
   ],
   "source": [
    "e1_outputs = e1(sample_inputs)\n",
    "print('e1_output.shape:', e1_outputs.shape)\n",
    "\n",
    "e2_outputs = e2(e1_outputs)\n",
    "print('e2_output.shape:', e2_outputs.shape)\n",
    "\n",
    "e3_outputs = e3(e2_outputs)\n",
    "print('e3_output.shape:', e3_outputs.shape)\n",
    "\n",
    "e4_outputs = e4(e3_outputs)\n",
    "print('e4_output.shape:', e4_outputs.shape)\n",
    "\n",
    "e5_outputs = e5(e4_outputs)\n",
    "print('e5_output.shape:', e5_outputs.shape)\n",
    "\n",
    "e6_outputs = e6(e5_outputs)\n",
    "print('e6_output.shape:', e6_outputs.shape)"
   ]
  },
  {
   "cell_type": "code",
   "execution_count": 11,
   "metadata": {},
   "outputs": [
    {
     "name": "stdout",
     "output_type": "stream",
     "text": [
      "bi_outputs.shape: (None, 108, 4096)\n",
      "dense_outputs.shape: (None, 108, 2048)\n"
     ]
    }
   ],
   "source": [
    "forward_layer = keras.layers.LSTM(2048, return_sequences=True)\n",
    "backward_layer = keras.layers.LSTM(2048, return_sequences=True, go_backwards=True)\n",
    "bi_lstm_layer = keras.layers.Bidirectional(forward_layer, backward_layer=backward_layer)\n",
    "bi_outputs = bi_lstm_layer(e6_outputs)\n",
    "print('bi_outputs.shape:', bi_outputs.shape)\n",
    "\n",
    "dense_layer = keras.layers.Dense(2048)\n",
    "dense_outputs = dense_layer(bi_outputs)\n",
    "print('dense_outputs.shape:', dense_outputs.shape)"
   ]
  },
  {
   "cell_type": "code",
   "execution_count": 12,
   "metadata": {},
   "outputs": [
    {
     "name": "stdout",
     "output_type": "stream",
     "text": [
      "d6_outputs.shape: (None, 432, 1024)\n",
      "d5_outputs.shape: (None, 1724, 512)\n",
      "d4_outputs.shape: (None, 6892, 256)\n",
      "d3_outputs.shape: (None, 27564, 128)\n",
      "d2_outputs.shape: (None, 110252, 64)\n",
      "d1_outputs.shape: (None, 441000, 8)\n"
     ]
    }
   ],
   "source": [
    "d6_outputs = d6(dense_outputs + e6_outputs)\n",
    "print('d6_outputs.shape:', d6_outputs.shape)\n",
    "\n",
    "d5_outputs = d5(d6_outputs[:, :-1, :] + e5_outputs)\n",
    "print('d5_outputs.shape:', d5_outputs.shape)\n",
    "\n",
    "d4_outputs = d4(d5_outputs[:, :-1, :] + e4_outputs)\n",
    "print('d4_outputs.shape:', d4_outputs.shape)\n",
    "\n",
    "d3_outputs = d3(d4_outputs[:, :-1, :] + e3_outputs)\n",
    "print('d3_outputs.shape:', d3_outputs.shape)\n",
    "\n",
    "d2_outputs = d2(d3_outputs[:, :-1, :] + e2_outputs)\n",
    "print('d2_outputs.shape:', d2_outputs.shape)\n",
    "\n",
    "d1_outputs = d1(d2_outputs[:, 1:-1, :] + e1_outputs)\n",
    "print('d1_outputs.shape:', d1_outputs.shape)"
   ]
  },
  {
   "cell_type": "code",
   "execution_count": 13,
   "metadata": {},
   "outputs": [],
   "source": [
    "## final\n",
    "demucs = keras.Model(sample_inputs, d1_outputs)"
   ]
  }
 ],
 "metadata": {
  "kernelspec": {
   "display_name": "demucs",
   "language": "python",
   "name": "demucs"
  },
  "language_info": {
   "codemirror_mode": {
    "name": "ipython",
    "version": 3
   },
   "file_extension": ".py",
   "mimetype": "text/x-python",
   "name": "python",
   "nbconvert_exporter": "python",
   "pygments_lexer": "ipython3",
   "version": "3.8.5"
  }
 },
 "nbformat": 4,
 "nbformat_minor": 4
}
