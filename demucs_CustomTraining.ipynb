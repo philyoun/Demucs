{
 "cells": [
  {
   "cell_type": "markdown",
   "metadata": {},
   "source": [
    "# Demucs Custom Training"
   ]
  },
  {
   "cell_type": "code",
   "execution_count": 1,
   "metadata": {},
   "outputs": [],
   "source": [
    "import os\n",
    "os.environ['TF_CPP_MIN_LOG_LEVEL'] = '3'\n",
    "import time\n",
    "\n",
    "import tensorflow as tf\n",
    "import tensorflow.keras as keras\n",
    "import numpy as np"
   ]
  },
  {
   "cell_type": "code",
   "execution_count": 2,
   "metadata": {},
   "outputs": [],
   "source": [
    "import musdb\n",
    "import random"
   ]
  },
  {
   "cell_type": "code",
   "execution_count": 3,
   "metadata": {},
   "outputs": [],
   "source": [
    "base_dir = os.path.join(os.getcwd(), \"venvs/demucs\")\n",
    "data_base_dir = os.path.join(base_dir, \"musdb18\")"
   ]
  },
  {
   "cell_type": "code",
   "execution_count": null,
   "metadata": {},
   "outputs": [],
   "source": [
    "BATCH_SIZE = 16"
   ]
  },
  {
   "cell_type": "code",
   "execution_count": 4,
   "metadata": {},
   "outputs": [
    {
     "name": "stdout",
     "output_type": "stream",
     "text": [
      "Number of files in train sets: 100\n",
      "Number of files in test sets: 50\n"
     ]
    }
   ],
   "source": [
    "mus_train= musdb.DB(root=data_base_dir, subsets='train')\n",
    "mus_test = musdb.DB(root=data_base_dir, subsets='test')\n",
    "print('Number of files in train sets:', len(mus_train))\n",
    "print('Number of files in test sets:', len(mus_test))"
   ]
  },
  {
   "cell_type": "code",
   "execution_count": 9,
   "metadata": {},
   "outputs": [],
   "source": [
    "def gen_ds(file, length=44100*11, long=44100*10, strides=44100, random_time=random.randint(0, 44100)):\n",
    "    input_mixture = file.stems[0]\n",
    "    target_mixtures = np.column_stack(file.stems[1:])\n",
    "    \n",
    "    ds_inp = tf.data.Dataset.from_tensor_slices((input_mixture))\n",
    "    ds_inp = ds_inp.window(length, shift=strides, drop_remainder=True)\n",
    "    ds_inp = ds_inp.flat_map(lambda windows: windows.batch(length))\n",
    "    ds_inp = ds_inp.map(lambda windows: (windows[random_time:(random_time+long), :]))\n",
    "\n",
    "    ds_tar = tf.data.Dataset.from_tensor_slices((target_mixtures))\n",
    "    ds_tar = ds_tar.window(length, shift=strides, drop_remainder=True)\n",
    "    ds_tar = ds_tar.flat_map(lambda windows: windows.batch(length))\n",
    "    ds_tar = ds_tar.map(lambda windows: (windows[random_time:(random_time+long), :]))\n",
    "\n",
    "    ds_total = [ds_inp, ds_tar]\n",
    "    total_ds = tf.data.Dataset.zip(tuple(ds_total))\n",
    "    total_ds = total_ds.batch(BATCH_SIZE)\n",
    "    \n",
    "    return total_ds"
   ]
  },
  {
   "cell_type": "code",
   "execution_count": 10,
   "metadata": {},
   "outputs": [
    {
     "name": "stdout",
     "output_type": "stream",
     "text": [
      "....Wall time: 13.2 s\n"
     ]
    }
   ],
   "source": [
    "# %%time\n",
    "# for i, file in enumerate(mus_train):\n",
    "#     gen_ds(file)\n",
    "#     print('.', end='')\n",
    "#     if i == 3:\n",
    "#         break"
   ]
  },
  {
   "cell_type": "code",
   "execution_count": null,
   "metadata": {},
   "outputs": [],
   "source": []
  },
  {
   "cell_type": "code",
   "execution_count": null,
   "metadata": {},
   "outputs": [],
   "source": []
  },
  {
   "cell_type": "code",
   "execution_count": null,
   "metadata": {},
   "outputs": [],
   "source": []
  }
 ],
 "metadata": {
  "kernelspec": {
   "display_name": "demucs",
   "language": "python",
   "name": "demucs"
  },
  "language_info": {
   "codemirror_mode": {
    "name": "ipython",
    "version": 3
   },
   "file_extension": ".py",
   "mimetype": "text/x-python",
   "name": "python",
   "nbconvert_exporter": "python",
   "pygments_lexer": "ipython3",
   "version": "3.8.5"
  }
 },
 "nbformat": 4,
 "nbformat_minor": 4
}
